{
 "cells": [
  {
   "cell_type": "markdown",
   "metadata": {},
   "source": [
    "# Sensors\n",
    "\n",
    "## LIDAR\n",
    "- [Calculate LIDAR slope and offset correction](lidar/lidar_correction.ipynb)\n",
    "- [2018 POWER UP](lidar/lidar.ipynb) - Plotting reported vs. actual of the intake LIDAR.\n",
    "- [2018 LIDAR Assisted Carpet Calibration](lidar/lidar_carpet.ipynb)"
   ]
  },
  {
   "cell_type": "code",
   "execution_count": null,
   "metadata": {},
   "outputs": [],
   "source": []
  }
 ],
 "metadata": {
  "kernelspec": {
   "display_name": "Python 3",
   "language": "python",
   "name": "python3"
  },
  "language_info": {
   "codemirror_mode": {
    "name": "ipython",
    "version": 3
   },
   "file_extension": ".py",
   "mimetype": "text/x-python",
   "name": "python",
   "nbconvert_exporter": "python",
   "pygments_lexer": "ipython3",
   "version": "3.7.1"
  }
 },
 "nbformat": 4,
 "nbformat_minor": 2
}
