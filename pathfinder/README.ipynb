{
 "cells": [
  {
   "cell_type": "markdown",
   "metadata": {},
   "source": [
    "# Pathfinder\n",
    "\n",
    "## Pathfinder 1.0\n",
    "\n",
    "- [Pathfinder Visualization](pathfinder/v1/pathfinder.ipynb)\n",
    "- [Pathfinder Swerve Path Visualization](pathfinder/v1/pathfinder_swerve.ipynb)\n",
    "\n",
    "## 2018 Autons\n",
    "- [directory](pathfinder/2018_auton)"
   ]
  }
 ],
 "metadata": {
  "kernelspec": {
   "display_name": "Python 3",
   "language": "python",
   "name": "python3"
  },
  "language_info": {
   "codemirror_mode": {
    "name": "ipython",
    "version": 3
   },
   "file_extension": ".py",
   "mimetype": "text/x-python",
   "name": "python",
   "nbconvert_exporter": "python",
   "pygments_lexer": "ipython3",
   "version": "3.7.1"
  }
 },
 "nbformat": 4,
 "nbformat_minor": 2
}
