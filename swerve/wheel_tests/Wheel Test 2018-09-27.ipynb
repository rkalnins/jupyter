{
 "cells": [
  {
   "cell_type": "markdown",
   "metadata": {},
   "source": [
    "# Wheel Test 2018-09-27\n",
    "Testing new magic wheels on Jif."
   ]
  },
  {
   "cell_type": "code",
   "execution_count": null,
   "metadata": {},
   "outputs": [],
   "source": [
    "%matplotlib inline\n",
    "import pandas as pd"
   ]
  },
  {
   "cell_type": "code",
   "execution_count": null,
   "metadata": {},
   "outputs": [],
   "source": [
    "date = '2018-09-27'\n",
    "activity_meta = pd.read_pickle(\"data/meta-%s.pkl.gz\" % date)\n",
    "activity_data = pd.read_pickle(\"data/data-%s.pkl.gz\" % date)"
   ]
  },
  {
   "cell_type": "markdown",
   "metadata": {},
   "source": [
    "## TPI Grouped by Direction\n",
    "Select and pivot summary data for an activity."
   ]
  },
  {
   "cell_type": "code",
   "execution_count": null,
   "metadata": {},
   "outputs": [],
   "source": [
    "pivot = activity_data.pivot(index='id', columns='measure', values='value')\n",
    "activity = pd.merge(activity_meta, pivot, on='id')\n",
    "activity['tpi'] = activity['actual_ticks'] / activity['actual_distance']\n",
    "activity[['direction','actual_distance', 'tpi']].groupby('direction').describe().round(1)"
   ]
  },
  {
   "cell_type": "code",
   "execution_count": null,
   "metadata": {},
   "outputs": [],
   "source": [
    "activity.boxplot(column='tpi', by=['name', 'direction'], rot=15, figsize=(11, 8))"
   ]
  },
  {
   "cell_type": "markdown",
   "metadata": {},
   "source": [
    "## TPI Estimated Error by Direction\n",
    "A resonable choice for nominal TPI is either *forward* TPI or TPI *grand mean*. We'll assume the TPI nominal value is the grand mean of all TPI measurements.\n",
    "\n",
    "\\begin{equation*}\n",
    "error_{TPI} =  \\frac{TPI_{experimental} - TPI_{nominal}}{TPI_{nominal}} \\times 100\\%\n",
    "\\end{equation*}\n",
    "\n",
    "A positive error is more ticks per inch (conversely fewer inches per tick), therefore the robot travels less distance with postive error. The `100 in.` column below is how far we'd expect the robot to travel if we converted 100 in to ticks using the forward (0.0) TPI as our benchmark."
   ]
  },
  {
   "cell_type": "code",
   "execution_count": null,
   "metadata": {},
   "outputs": [],
   "source": [
    "tpi_grand_mean = activity['tpi'].mean()\n",
    "tpi_error = activity[['direction', 'tpi']].groupby('direction').mean()\n",
    "tpi_error['error'] = (tpi_error['tpi'] - tpi_grand_mean) / tpi_grand_mean\n",
    "tpi_error['error (%)'] = pd.Series([\"{0:.2f}%\".format(val * 100) for val in tpi_error['error']], index = tpi_error.index)\n",
    "\n",
    "ticks_100_in = tpi_error.loc['0.0','tpi'] * 100 # ticks to travel 100in using 0.0 TPI\n",
    "tpi_error['100 in.'] = ticks_100_in / tpi_error['tpi']\n",
    "tpi_error = tpi_error.round({'tpi':1, 'error': 3, '100 in.': 2})\n",
    "tpi_error"
   ]
  },
  {
   "cell_type": "code",
   "execution_count": null,
   "metadata": {},
   "outputs": [],
   "source": []
  }
 ],
 "metadata": {
  "kernelspec": {
   "display_name": "Python 3",
   "language": "python",
   "name": "python3"
  },
  "language_info": {
   "codemirror_mode": {
    "name": "ipython",
    "version": 3
   },
   "file_extension": ".py",
   "mimetype": "text/x-python",
   "name": "python",
   "nbconvert_exporter": "python",
   "pygments_lexer": "ipython3",
   "version": "3.7.1"
  }
 },
 "nbformat": 4,
 "nbformat_minor": 2
}
