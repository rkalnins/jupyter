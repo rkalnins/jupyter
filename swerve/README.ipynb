{
 "cells": [
  {
   "cell_type": "markdown",
   "metadata": {},
   "source": [
    "# Swerve Drive\n",
    "\n",
    "## Wheel Tests\n",
    "- [2018 POWER UP](wheels/powerup_wheel_tests/2018%20Carpet%20Test.ipynb) - conducted during auton development for the 2018 season.\n",
    "- [2018 Magic Wheels](wheels/magic_wheel_tests/) - conducted as port of our development of _magic_ wheels. There is a [summary report](wheels/magic_wheel_tests/Wheel%20Test%202018%20Summary.ipynb) of the results."
   ]
  },
  {
   "cell_type": "code",
   "execution_count": null,
   "metadata": {},
   "outputs": [],
   "source": []
  }
 ],
 "metadata": {
  "kernelspec": {
   "display_name": "Python 3",
   "language": "python",
   "name": "python3"
  },
  "language_info": {
   "codemirror_mode": {
    "name": "ipython",
    "version": 3
   },
   "file_extension": ".py",
   "mimetype": "text/x-python",
   "name": "python",
   "nbconvert_exporter": "python",
   "pygments_lexer": "ipython3",
   "version": "3.7.1"
  }
 },
 "nbformat": 4,
 "nbformat_minor": 2
}
