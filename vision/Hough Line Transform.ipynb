{
 "cells": [
  {
   "cell_type": "markdown",
   "metadata": {},
   "source": [
    "![Stryke Force Logo](https://avatars3.githubusercontent.com/u/20849460?v=3&s=200)\n",
    "\n",
    "# Hough Line Transform\n",
    "Let's experiment locating a target with the [Hough Line Transform](http://docs.opencv.org/3.0-beta/doc/py_tutorials/py_imgproc/py_houghlines/py_houghlines.html)."
   ]
  },
  {
   "cell_type": "code",
   "execution_count": null,
   "metadata": {
    "collapsed": true
   },
   "outputs": [],
   "source": [
    "%matplotlib inline\n",
    "import cv2\n",
    "from matplotlib import pyplot as plt\n",
    "import numpy as np\n",
    "plt.rcParams['image.cmap'] = 'gray'"
   ]
  },
  {
   "cell_type": "markdown",
   "metadata": {},
   "source": [
    "## The Original Image"
   ]
  },
  {
   "cell_type": "code",
   "execution_count": null,
   "metadata": {
    "collapsed": false
   },
   "outputs": [],
   "source": [
    "bgr_image = cv2.imread(\"./images/15.jpg\")\n",
    "plt.imshow(cv2.cvtColor(bgr_image, cv2.COLOR_BGR2RGB))\n",
    "plt.show()"
   ]
  },
  {
   "cell_type": "markdown",
   "metadata": {},
   "source": [
    "## HSV Color Range Selection"
   ]
  },
  {
   "cell_type": "code",
   "execution_count": null,
   "metadata": {
    "collapsed": false
   },
   "outputs": [],
   "source": [
    "# gray_image = cv2.cvtColor(bgr_image, cv2.COLOR_BGR2GRAY)\n",
    "# edges = cv2.Canny(gray_image, 50, 150, apertureSize=3)\n",
    "\n",
    "hsv_target_color = (178 // 2, 1.0 * 255, .61 * 255)\n",
    "hsv_target_lower = (hsv_target_color[0] - 5, 100, 100)\n",
    "hsv_target_upper = (hsv_target_color[0] + 5, 255, 255)\n",
    "\n",
    "hsv_image = cv2.cvtColor(bgr_image, cv2.COLOR_BGR2HSV)\n",
    "hsv_blurred_image = cv2.GaussianBlur(hsv_image, (5, 5), 0)\n",
    "edges = cv2.inRange(hsv_blurred_image, hsv_target_lower, hsv_target_upper)\n",
    "edges = cv2.Canny(edges, 50, 150, apertureSize=3)\n",
    "\n",
    "\n",
    "plt.imshow(edges)\n",
    "plt.show()"
   ]
  },
  {
   "cell_type": "markdown",
   "metadata": {
    "collapsed": true
   },
   "source": [
    "## Hough Tranform"
   ]
  },
  {
   "cell_type": "code",
   "execution_count": null,
   "metadata": {
    "collapsed": false
   },
   "outputs": [],
   "source": [
    "lines = cv2.HoughLines(edges.copy(), 1, np.pi/64, 40)\n",
    "display_image = bgr_image.copy()\n",
    "# lines\n",
    "for line in lines:\n",
    "    for rho, theta in line:\n",
    "        a = np.cos(theta)\n",
    "        b = np.sin(theta)\n",
    "        x0 = a*rho\n",
    "        y0 = b*rho\n",
    "        x1 = int(x0 + 1000*(-b))\n",
    "        y1 = int(y0 + 1000*(a))\n",
    "        x2 = int(x0 - 1000*(-b))\n",
    "        y2 = int(y0 - 1000*(a))\n",
    "#         print(rho, theta)\n",
    "\n",
    "        cv2.line(display_image,(x1,y1),(x2,y2),(0,0,255),2)\n",
    "\n",
    "plt.imshow(cv2.cvtColor(display_image, cv2.COLOR_BGR2RGB))\n",
    "plt.show()"
   ]
  },
  {
   "cell_type": "markdown",
   "metadata": {},
   "source": [
    "## Probabilistic Hough Transform"
   ]
  },
  {
   "cell_type": "code",
   "execution_count": null,
   "metadata": {
    "collapsed": false
   },
   "outputs": [],
   "source": [
    "minLineLength = 100\n",
    "maxLineGap = 10\n",
    "\n",
    "display_image = bgr_image.copy()\n",
    "\n",
    "lines = cv2.HoughLinesP(edges.copy(), 1, np.pi/64, 25, minLineLength, maxLineGap)\n",
    "for line in lines:\n",
    "    for x1,y1,x2,y2 in line:\n",
    "        cv2.line(display_image,(x1,y1),(x2,y2),(0,255,0),2)\n",
    "\n",
    "plt.imshow(cv2.cvtColor(display_image, cv2.COLOR_BGR2RGB))\n",
    "plt.show()"
   ]
  },
  {
   "cell_type": "code",
   "execution_count": null,
   "metadata": {
    "collapsed": true
   },
   "outputs": [],
   "source": []
  }
 ],
 "metadata": {
  "kernelspec": {
   "display_name": "Python 3",
   "language": "python",
   "name": "python3"
  },
  "language_info": {
   "codemirror_mode": {
    "name": "ipython",
    "version": 3
   },
   "file_extension": ".py",
   "mimetype": "text/x-python",
   "name": "python",
   "nbconvert_exporter": "python",
   "pygments_lexer": "ipython3",
   "version": "3.5.2"
  }
 },
 "nbformat": 4,
 "nbformat_minor": 0
}
