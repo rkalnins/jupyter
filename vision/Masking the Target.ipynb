{
 "cells": [
  {
   "cell_type": "markdown",
   "metadata": {},
   "source": [
    "![Stryke Force Logo](https://avatars3.githubusercontent.com/u/20849460?v=3&s=200)\n",
    "\n",
    "# Masking the Target\n",
    "Let's experiment with several ways to isolate, or mask, the target in a sample image."
   ]
  },
  {
   "cell_type": "code",
   "execution_count": null,
   "metadata": {
    "collapsed": true
   },
   "outputs": [],
   "source": [
    "%matplotlib inline\n",
    "import cv2\n",
    "from matplotlib import pyplot as plt\n",
    "import numpy as np\n",
    "plt.rcParams['image.cmap'] = 'gray'"
   ]
  },
  {
   "cell_type": "markdown",
   "metadata": {},
   "source": [
    "We use OpenCV to open the file and load into a `numpy` array. OpenCV loads the array with pixels in BGR order so we need to convert to RGB for displaying using `matplotlib`."
   ]
  },
  {
   "cell_type": "markdown",
   "metadata": {},
   "source": [
    "## The Original Image"
   ]
  },
  {
   "cell_type": "code",
   "execution_count": null,
   "metadata": {
    "collapsed": false
   },
   "outputs": [],
   "source": [
    "bgr_image = cv2.imread(\"../2016_RealFullField/15.jpg\")\n",
    "plt.imshow(cv2.cvtColor(bgr_image, cv2.COLOR_BGR2RGB))\n",
    "plt.show()"
   ]
  },
  {
   "cell_type": "markdown",
   "metadata": {
    "collapsed": true
   },
   "source": [
    "## Simple Grayscale Thresholding\n",
    "A simple technique to obtaining a mask of our target is to use the [`cv2.threshold`](http://docs.opencv.org/2.4/modules/imgproc/doc/miscellaneous_transformations.html#threshold) function. This OpenCV [thresholding tutorial](http://docs.opencv.org/2.4/doc/tutorials/imgproc/threshold/threshold.html) has more information about how thresholding works.\n",
    "The threshold function expects one channel of data so we'll convert our three-channel color BGR image to grayscale using [`cv2.cvtColor`](http://docs.opencv.org/2.4/modules/imgproc/doc/miscellaneous_transformations.html#cvtcolor). We also apply [`cv2.GaussianBlur`](http://docs.opencv.org/2.4.13/modules/imgproc/doc/filtering.html?#gaussianblur) to reduce some of the high-frequency noise we are not interested in."
   ]
  },
  {
   "cell_type": "code",
   "execution_count": null,
   "metadata": {
    "collapsed": false
   },
   "outputs": [],
   "source": [
    "# convert to grayscale and apply blur\n",
    "grayscale_image = cv2.cvtColor(bgr_image, cv2.COLOR_BGR2GRAY)\n",
    "grayscale_blurred_image = cv2.GaussianBlur(grayscale_image, (5, 5), 0)\n",
    "plt.imshow(grayscale_blurred_image)\n",
    "plt.show()"
   ]
  },
  {
   "cell_type": "markdown",
   "metadata": {},
   "source": [
    "Applying simple thresholding requires us to select the threshold value, `T`, manually. All pixel values less than `T` in our grayscale image are set to 0 and all pixels greater than `T` are set to 255."
   ]
  },
  {
   "cell_type": "code",
   "execution_count": null,
   "metadata": {
    "collapsed": false
   },
   "outputs": [],
   "source": [
    "T = 99\n",
    "(T, bw_thresholded_image) = cv2.threshold(grayscale_blurred_image, T, 255, cv2.THRESH_BINARY)\n",
    "plt.imshow(bw_thresholded_image)\n",
    "plt.show()"
   ]
  },
  {
   "cell_type": "markdown",
   "metadata": {
    "collapsed": true
   },
   "source": [
    "## BGR Color Range Selection\n",
    "The simple grayscale threshold operation produced a decent result but we still have some large masked areas from the high-intensity pixels in some of the background lights in the original image. Let's see if we can do better by using the color information present in the original image.\n",
    "\n",
    "We know that the target is reflecting a green light from the target so we'll select all pixels that fall within a color range for our target mask.\n",
    "\n",
    "A repeatable method for getting a good BGR color range requires us to look at each channel. We sampled the target color using Photoshop and got the RGB values below. We'll create a standard deviation range around each of the average (mean) channel value of our sampled target color.\n",
    "\n",
    "<img src=\"images/target_color_selection.png\" height=\"200\" width=\"200\">\n",
    "<table>\n",
    "<tr><th>Blue</th><th>Green</th><th>Red</th></tr>\n",
    "<tr>\n",
    "<td><img src=\"images/blue_histogram.png\" height=\"200\" width=\"200\"></td>\n",
    "<td><img src=\"images/green_histogram.png\" height=\"200\" width=\"200\"></td>\n",
    "<td><img src=\"images/red_histogram.png\" height=\"200\" width=\"200\"></td>\n",
    "</tr>\n",
    "<tr>\n",
    "<td>Mean: 141<br/>Std Dev: 15</td>\n",
    "<td>Mean: 145<br/>Std Dev: 15</td>\n",
    "<td>Mean: 8<br/>Std Dev: 17</td>\n",
    "</tr>\n",
    "</table>"
   ]
  },
  {
   "cell_type": "code",
   "execution_count": null,
   "metadata": {
    "collapsed": false
   },
   "outputs": [],
   "source": [
    "num_std_dev = 3\n",
    "bgr_target_color = (141, 145, 8)\n",
    "bgr_target_lower = (141 - num_std_dev*15, 144 - num_std_dev*15, 0)\n",
    "bgr_target_upper = (141 + num_std_dev*15, 145 + num_std_dev*15, 8 + num_std_dev*17)\n",
    "\n",
    "plt.subplot(1, 3, 1)\n",
    "plt.imshow(cv2.cvtColor(np.uint8([[bgr_target_lower]*100]*100), cv2.COLOR_BGR2RGB))\n",
    "plt.subplot(1, 3, 2)\n",
    "plt.imshow(cv2.cvtColor(np.uint8([[bgr_target_color]*100]*100), cv2.COLOR_BGR2RGB))\n",
    "plt.subplot(1, 3, 3)\n",
    "plt.imshow(cv2.cvtColor(np.uint8([[bgr_target_upper]*100]*100), cv2.COLOR_BGR2RGB))\n",
    "plt.show()"
   ]
  },
  {
   "cell_type": "code",
   "execution_count": null,
   "metadata": {
    "collapsed": false
   },
   "outputs": [],
   "source": [
    "bgr_blurred_image = cv2.GaussianBlur(bgr_image, (5, 5), 0)\n",
    "bgr_inrange_image = cv2.inRange(bgr_blurred_image, bgr_target_lower, bgr_target_upper)\n",
    "plt.imshow(bgr_inrange_image)\n",
    "plt.show()"
   ]
  },
  {
   "cell_type": "markdown",
   "metadata": {},
   "source": [
    "## HSV Color Range Selection\n",
    "The BGR color range selection looks to be better than simple grayscale thresholding, but how will it stand up to changes in camera range and light levels?\n",
    "\n",
    "We'll now select pixels that fall within a range of two HSV colors. As before we looked at the image in Photoshop to select the best average color of the target in this particular image. A simple method of creating a HSV range is to take the sampled hue +/- 10° and always a large range for saturation and brightness. Since OpenCV uses an 8-bit integer in the range of 0-180 to represent the 360° of the color wheel we'll divide our sampled hue by 2."
   ]
  },
  {
   "cell_type": "code",
   "execution_count": null,
   "metadata": {
    "collapsed": false
   },
   "outputs": [],
   "source": [
    "hsv_target_color = (178 // 2, 1.0 * 255, .61 * 255)\n",
    "hsv_target_lower = (hsv_target_color[0] - 5, 100, 100)\n",
    "hsv_target_upper = (hsv_target_color[0] + 5, 255, 255)\n",
    "\n",
    "plt.subplot(1, 3, 1)\n",
    "plt.imshow(cv2.cvtColor(np.uint8([[hsv_target_lower]*100]*100), cv2.COLOR_HSV2RGB))\n",
    "plt.subplot(1, 3, 2)\n",
    "plt.imshow(cv2.cvtColor(np.uint8([[hsv_target_color]*100]*100), cv2.COLOR_HSV2RGB))\n",
    "plt.subplot(1, 3, 3)\n",
    "plt.imshow(cv2.cvtColor(np.uint8([[hsv_target_upper]*100]*100), cv2.COLOR_HSV2RGB))\n",
    "plt.show()"
   ]
  },
  {
   "cell_type": "code",
   "execution_count": null,
   "metadata": {
    "collapsed": false
   },
   "outputs": [],
   "source": [
    "hsv_image = cv2.cvtColor(bgr_image, cv2.COLOR_BGR2HSV)\n",
    "hsv_blurred_image = cv2.GaussianBlur(hsv_image, (5, 5), 0)\n",
    "hsv_inrange_image = cv2.inRange(hsv_blurred_image, hsv_target_lower, hsv_target_upper)\n",
    "plt.imshow(hsv_inrange_image)\n",
    "plt.show()"
   ]
  },
  {
   "cell_type": "markdown",
   "metadata": {},
   "source": [
    "As we can see above, HSV masking does a better job of removing light sources in the background and on the tower, even with a broad selection range for value (brightness)."
   ]
  },
  {
   "cell_type": "code",
   "execution_count": null,
   "metadata": {
    "collapsed": true
   },
   "outputs": [],
   "source": []
  }
 ],
 "metadata": {
  "kernelspec": {
   "display_name": "Python 3",
   "language": "python",
   "name": "python3"
  },
  "language_info": {
   "codemirror_mode": {
    "name": "ipython",
    "version": 3
   },
   "file_extension": ".py",
   "mimetype": "text/x-python",
   "name": "python",
   "nbconvert_exporter": "python",
   "pygments_lexer": "ipython3",
   "version": "3.5.2"
  }
 },
 "nbformat": 4,
 "nbformat_minor": 0
}
